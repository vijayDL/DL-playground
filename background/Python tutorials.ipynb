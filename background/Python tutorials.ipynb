{
 "cells": [
  {
   "cell_type": "markdown",
   "metadata": {},
   "source": [
    "____________________________________\n",
    "# 2. Python Tutorials\n",
    "\n",
    "This follows the Installation Guide in Previous Step. Install the Python3 environment as mentioned there.\n",
    "_________________________________\n"
   ]
  },
  {
   "cell_type": "markdown",
   "metadata": {},
   "source": [
    "We will be using Python to code all our ML/DL projects. Python along with few popular libraries like numpy, scipy, pandas, matplotlib becomes a powerful environment for scientific computing. We will have a  crash course of python and few popular libraries in this notebook.\n",
    "\n",
    "### Python IDEs (i use)\n",
    "For the end python project i use [`Pycharm`](https://www.jetbrains.com/pycharm/) but for experimenting on modules i use `Jupyter notebook`. All the notes prepared in this project is using `Jupyter notebook`. Can be installed going into `Anaconda env` and typing `(ml)$conda install jupyter`\n",
    "\n",
    "## Intro to Pycharm\n",
    "\n",
    "- Check out the [`Quick Start guide`](https://www.jetbrains.com/help/pycharm/quick-start-guide.html) for the key concepts.\n",
    "\n",
    "## Intro to Jupyter notebook \n",
    "\n",
    "- Go to the Anaconda environment\n",
    "- Start the Jupyter notebook using: `$ jupyter notebook`\n",
    "- This will start the web server all the notebook application will be opened in your default browser.\n",
    "- You can navigate through the folders, create files and start working on it.\n",
    "- For details, check out the ['Jupyter Notebook Tutorial video](https://www.youtube.com/watch?v=HW29067qVWk)"
   ]
  },
  {
   "cell_type": "markdown",
   "metadata": {},
   "source": [
    "______________________________________\n",
    "## Intro to Python\n",
    "Python is a [high-level](http://qr.ae/TUNPva), [dynamically typed](http://qr.ae/TUNPvZ) programming language with very rich scientific computing libraries. This allows to write very readable and well structured code.\n",
    "\n",
    "`Hello world` example of Python vs C to highlight the simplicity of the language.\n",
    "\n",
    "```\n",
    "Python:\n",
    "\n",
    "    print (“hello world”)\n",
    "\n",
    "C:\n",
    "    #include<stdio.h>\n",
    "    void main()\n",
    "    {\n",
    "        printf(“hello world!”);\n",
    "    }\n",
    "```\n",
    "\n",
    "### Python strengths\n",
    "- Rich collection of tools for numerical methods, plotting and data processing.\n",
    "- Quick development times.\n",
    "- Easy language to learn.\n",
    "- Readable code."
   ]
  },
  {
   "cell_type": "markdown",
   "metadata": {},
   "source": [
    "We will cover a short introduction to Python in this notebook. This notebook is interleaved with Code samples, step through each of the cells using `shift + Enter` key. \n",
    "### 1 Basic Types\n",
    "\n",
    "#### 1.1 Numerical types\n",
    "- Supports the following numerical scaler types: Integer, Floats, Complex, Booleans\n"
   ]
  },
  {
   "cell_type": "code",
   "execution_count": 1,
   "metadata": {},
   "outputs": [
    {
     "name": "stdout",
     "output_type": "stream",
     "text": [
      "<class 'int'>\n",
      "<class 'float'>\n",
      "<class 'complex'>\n",
      "<class 'bool'>\n"
     ]
    }
   ],
   "source": [
    "# You can edit any of the below code and run the cell (or) create a new cell typing ESC+a and experiment.\n",
    "a = 4\n",
    "b = 3.1\n",
    "c = 5 + 0.5j\n",
    "d = (3 > 4)\n",
    "\n",
    "# Print types of the scalars\n",
    "print(type(a))\n",
    "print(type(b))\n",
    "print(type(c))\n",
    "print(type(d))"
   ]
  },
  {
   "cell_type": "markdown",
   "metadata": {},
   "source": [
    "#### 1.2 Assignment Operator\n",
    "- Assignment statements are used to (re)bind names to values and to modify attributes or items of mutable objects."
   ]
  },
  {
   "cell_type": "code",
   "execution_count": 2,
   "metadata": {},
   "outputs": [
    {
     "name": "stdout",
     "output_type": "stream",
     "text": [
      "True\n",
      "139729986925384\n",
      "139729986925384\n"
     ]
    }
   ],
   "source": [
    "# a single object can have multiple names\n",
    "a = [1, 2, 3]\n",
    "b = a\n",
    "print(a is b) # a and b are pointing to a single object,\n",
    "print(id(a)) # id assigns a unique integer to the object\n",
    "print(id(b))"
   ]
  },
  {
   "cell_type": "code",
   "execution_count": 3,
   "metadata": {},
   "outputs": [
    {
     "name": "stdout",
     "output_type": "stream",
     "text": [
      "[1, 'hi', 3]\n"
     ]
    }
   ],
   "source": [
    "b[1] = 'hi' # change b\n",
    "print(a)    # check a"
   ]
  },
  {
   "cell_type": "markdown",
   "metadata": {},
   "source": [
    "#### 1.3 Containers\n",
    "\n",
    "- Python provides many types of containers in which the collections of objects can be stored.\n",
    "\n",
    "##### 1.3.1 Lists\n",
    "- A list is an ordered collection of objects"
   ]
  },
  {
   "cell_type": "code",
   "execution_count": 4,
   "metadata": {},
   "outputs": [
    {
     "name": "stdout",
     "output_type": "stream",
     "text": [
      "<class 'list'>\n",
      "banana\n",
      "orange\n",
      "banana\n"
     ]
    }
   ],
   "source": [
    "fruits = ['apple', 'banana', 'orange']\n",
    "\n",
    "print(type(fruits))\n",
    "print(fruits[1]) # access individual element from the list\n",
    "print(fruits[-1]) # get the last element from the list\n",
    "print(fruits[-2]) # get the last but one element from the list\n"
   ]
  },
  {
   "cell_type": "code",
   "execution_count": 5,
   "metadata": {},
   "outputs": [
    {
     "name": "stdout",
     "output_type": "stream",
     "text": [
      "['banana', 'orange']\n",
      "['apple', 'banana']\n",
      "['apple', 'orange']\n"
     ]
    }
   ],
   "source": [
    "#Slicing of the list\n",
    "print(fruits[1:]) # slice the list from one to end\n",
    "print(fruits[:2]) # slice the list from start to two\n",
    "print(fruits[::2]) # Subsample by 2 (pick odd samples)"
   ]
  },
  {
   "cell_type": "code",
   "execution_count": 6,
   "metadata": {},
   "outputs": [
    {
     "name": "stdout",
     "output_type": "stream",
     "text": [
      "['kiwi', 'banana', 'orange']\n"
     ]
    }
   ],
   "source": [
    "# Lists are mutable objects (meaning it can be modified)\n",
    "#mutable vs. immutable: mutable objects can be changed in place, while \n",
    "# immutable objects cannot be modified once created.\n",
    "\n",
    "fruits[0] = 'kiwi'\n",
    "print(fruits)"
   ]
  },
  {
   "cell_type": "code",
   "execution_count": 7,
   "metadata": {},
   "outputs": [
    {
     "name": "stdout",
     "output_type": "stream",
     "text": [
      "['apple', -1, 4.3, (1+2j), False]\n"
     ]
    }
   ],
   "source": [
    "# Elements in the list can have different objects as well\n",
    "\n",
    "Mixed = ['apple', -1, 4.3, 1+2j, (3>4)]\n",
    "\n",
    "print(Mixed)"
   ]
  },
  {
   "cell_type": "code",
   "execution_count": 8,
   "metadata": {},
   "outputs": [
    {
     "name": "stdout",
     "output_type": "stream",
     "text": [
      "['kiwi', 'banana', 'orange', 'plum']\n",
      "['kiwi', 'banana', 'orange']\n",
      "['kiwi', 'banana', 'orange', 'apple', 'banana']\n"
     ]
    }
   ],
   "source": [
    "# Modify lists\n",
    "fruits.append('plum') # add an item to the list\n",
    "print(fruits)\n",
    "\n",
    "fruits.pop() # removes the last item\n",
    "print(fruits)\n",
    "\n",
    "fruits.extend(['apple', 'banana']) #extend the list\n",
    "print(fruits)\n"
   ]
  },
  {
   "cell_type": "code",
   "execution_count": 9,
   "metadata": {},
   "outputs": [
    {
     "name": "stdout",
     "output_type": "stream",
     "text": [
      "['banana', 'apple', 'orange', 'banana', 'kiwi']\n",
      "['banana', 'apple', 'orange', 'banana', 'kiwi']\n"
     ]
    }
   ],
   "source": [
    "# Reversing a list\n",
    "r_fruits = fruits[::-1] #reverses the list\n",
    "print(r_fruits)\n",
    "fruits.reverse() #inplace reverse\n",
    "print(fruits)\n",
    "\n",
    "#type fruits. and then press tab (fruits should end with dot) to get all the methods part of this list."
   ]
  },
  {
   "cell_type": "code",
   "execution_count": 10,
   "metadata": {},
   "outputs": [
    {
     "name": "stdout",
     "output_type": "stream",
     "text": [
      "['apple', 'banana', 'banana', 'kiwi', 'orange']\n",
      "['banana', 'apple', 'orange', 'banana', 'kiwi']\n",
      "['apple', 'banana', 'banana', 'kiwi', 'orange']\n"
     ]
    }
   ],
   "source": [
    "# Sorting a list\n",
    "print(sorted(fruits)) # new object \n",
    "print(fruits)\n",
    "\n",
    "fruits.sort() #inplace sort\n",
    "print(fruits)"
   ]
  },
  {
   "cell_type": "markdown",
   "metadata": {},
   "source": [
    "##### 1.3.2 Tuples\n",
    "- tuples are basically immutable lists (the values cannot be changed)\n"
   ]
  },
  {
   "cell_type": "code",
   "execution_count": 11,
   "metadata": {},
   "outputs": [
    {
     "name": "stdout",
     "output_type": "stream",
     "text": [
      "('apple', 'banana', 'orange')\n"
     ]
    }
   ],
   "source": [
    "fruits = ('apple', 'banana', 'orange') # (...) is a Tuple, while [...] is a list\n",
    "print(fruits)\n"
   ]
  },
  {
   "cell_type": "markdown",
   "metadata": {},
   "source": [
    "##### 1.3.3 Sets\n",
    "- they are unordered, unique items"
   ]
  },
  {
   "cell_type": "code",
   "execution_count": 12,
   "metadata": {},
   "outputs": [
    {
     "name": "stdout",
     "output_type": "stream",
     "text": [
      "('apple', 'banana', 'orange', 'apple')\n",
      "{'banana', 'apple', 'orange'}\n"
     ]
    }
   ],
   "source": [
    "fruits = ('apple', 'banana', 'orange', 'apple')\n",
    "print(fruits)\n",
    "print(set(fruits))"
   ]
  },
  {
   "cell_type": "markdown",
   "metadata": {},
   "source": [
    "##### 1.3.4 Strings"
   ]
  },
  {
   "cell_type": "code",
   "execution_count": 13,
   "metadata": {},
   "outputs": [
    {
     "name": "stdout",
     "output_type": "stream",
     "text": [
      "hello, how are you?\n",
      "hi, what's up?\n"
     ]
    }
   ],
   "source": [
    "# Different string syntaxes\n",
    "s_1 = 'hello, how are you?'\n",
    "s_2 = 'hi, what\\'s up?' #prepend a backslash to the single quotes within the string.\n",
    "print(s_1)\n",
    "print(s_2)"
   ]
  },
  {
   "cell_type": "code",
   "execution_count": 14,
   "metadata": {},
   "outputs": [
    {
     "name": "stdout",
     "output_type": "stream",
     "text": [
      "r\n",
      "lo o\n"
     ]
    }
   ],
   "source": [
    "#indexing and slicing\n",
    "print(s_1[12])\n",
    "print(s_1[2:10:2]) # s_1[start idx:stop idx:step(skip)]"
   ]
  },
  {
   "cell_type": "code",
   "execution_count": 15,
   "metadata": {},
   "outputs": [
    {
     "ename": "TypeError",
     "evalue": "'str' object does not support item assignment",
     "output_type": "error",
     "traceback": [
      "\u001b[0;31m---------------------------------------------------------------------------\u001b[0m",
      "\u001b[0;31mTypeError\u001b[0m                                 Traceback (most recent call last)",
      "\u001b[0;32m<ipython-input-15-60f3b64338fb>\u001b[0m in \u001b[0;36m<module>\u001b[0;34m()\u001b[0m\n\u001b[1;32m      1\u001b[0m \u001b[0;31m# A string is a immutable object and its not possible to modify its content\u001b[0m\u001b[0;34m\u001b[0m\u001b[0;34m\u001b[0m\u001b[0m\n\u001b[1;32m      2\u001b[0m \u001b[0;34m\u001b[0m\u001b[0m\n\u001b[0;32m----> 3\u001b[0;31m \u001b[0ms_1\u001b[0m\u001b[0;34m[\u001b[0m\u001b[0;36m0\u001b[0m\u001b[0;34m]\u001b[0m \u001b[0;34m=\u001b[0m \u001b[0;34m'B'\u001b[0m\u001b[0;34m\u001b[0m\u001b[0m\n\u001b[0m",
      "\u001b[0;31mTypeError\u001b[0m: 'str' object does not support item assignment"
     ]
    }
   ],
   "source": [
    "# A string is a immutable object and its not possible to modify its content\n",
    "\n",
    "s_1[0] = 'B'"
   ]
  },
  {
   "cell_type": "markdown",
   "metadata": {},
   "source": [
    "##### 1.3.5 Dictionaries\n",
    "- A dictionary is basically an efficient table that maps keys to values."
   ]
  },
  {
   "cell_type": "code",
   "execution_count": 16,
   "metadata": {},
   "outputs": [
    {
     "name": "stdout",
     "output_type": "stream",
     "text": [
      "{'banana': 34, 'apple': 12, 'orange': 22}\n",
      "dict_keys(['banana', 'apple', 'orange'])\n"
     ]
    },
    {
     "data": {
      "text/plain": [
       "dict_values([34, 12, 22])"
      ]
     },
     "execution_count": 16,
     "metadata": {},
     "output_type": "execute_result"
    }
   ],
   "source": [
    "table = {'apple': 12, 'banana': 34}\n",
    "table['orange'] = 22 #adds a key value pair to the dictionary\n",
    "print(table)\n",
    "\n",
    "print(table.keys()) #gets the keys \n",
    "table.values() # get the values"
   ]
  },
  {
   "cell_type": "code",
   "execution_count": 17,
   "metadata": {},
   "outputs": [
    {
     "name": "stdout",
     "output_type": "stream",
     "text": [
      "{'a': 1, 'b': 2, 3: 'c'}\n",
      "dict_keys(['a', 'b', 3])\n"
     ]
    }
   ],
   "source": [
    "# a dictionary can have keys with different types\n",
    "table = {'a':1, 'b':2, 3:'c'}\n",
    "print(table)\n",
    "print(table.keys())"
   ]
  },
  {
   "cell_type": "markdown",
   "metadata": {},
   "source": [
    "### 2. Control flow\n",
    "- Controls the order in which the code is executed."
   ]
  },
  {
   "cell_type": "markdown",
   "metadata": {},
   "source": [
    "#### 2.1 if/else/elif\n",
    "- blocks are delimited by indentation\n"
   ]
  },
  {
   "cell_type": "code",
   "execution_count": 18,
   "metadata": {},
   "outputs": [
    {
     "name": "stdout",
     "output_type": "stream",
     "text": [
      "banana\n"
     ]
    }
   ],
   "source": [
    "a = 2\n",
    "b = 1\n",
    "if a == 1: #should end with a colon sign\n",
    "    print('apple') # should have indentation, (go four spaces, most IDEs automatically indent after a colon: sign)\n",
    "elif a == 2:\n",
    "    if b == 1:\n",
    "        print('banana')\n",
    "else:\n",
    "    print('kiwi')"
   ]
  },
  {
   "cell_type": "markdown",
   "metadata": {},
   "source": [
    "#### 2.2 for loop\n",
    "- Iterating with an index\n"
   ]
  },
  {
   "cell_type": "code",
   "execution_count": 19,
   "metadata": {},
   "outputs": [
    {
     "name": "stdout",
     "output_type": "stream",
     "text": [
      "1\n",
      "3\n"
     ]
    }
   ],
   "source": [
    "for i in range(1,5,2): #(start, stop, step)\n",
    "    print(i)"
   ]
  },
  {
   "cell_type": "code",
   "execution_count": 20,
   "metadata": {},
   "outputs": [
    {
     "name": "stdout",
     "output_type": "stream",
     "text": [
      "apple\n",
      "banana\n",
      "orange\n"
     ]
    }
   ],
   "source": [
    "fruits = ['apple', 'banana', 'orange']\n",
    "for word in fruits:\n",
    "    print(word)"
   ]
  },
  {
   "cell_type": "code",
   "execution_count": 21,
   "metadata": {},
   "outputs": [
    {
     "name": "stdout",
     "output_type": "stream",
     "text": [
      "a\n",
      "p\n",
      "p\n",
      "l\n",
      "e\n"
     ]
    }
   ],
   "source": [
    "for char in 'apple':\n",
    "    print(char)"
   ]
  },
  {
   "cell_type": "code",
   "execution_count": 22,
   "metadata": {},
   "outputs": [
    {
     "name": "stdout",
     "output_type": "stream",
     "text": [
      "a\n",
      "p\n",
      "p\n",
      "l\n",
      "e\n",
      "b\n",
      "a\n",
      "n\n",
      "a\n",
      "n\n",
      "a\n",
      "o\n",
      "r\n",
      "a\n",
      "n\n",
      "g\n",
      "e\n"
     ]
    }
   ],
   "source": [
    "for word in fruits:\n",
    "    for char in word:\n",
    "        print(char)"
   ]
  },
  {
   "cell_type": "code",
   "execution_count": 23,
   "metadata": {},
   "outputs": [
    {
     "name": "stdout",
     "output_type": "stream",
     "text": [
      "0 a\n",
      "1 p\n",
      "2 p\n",
      "3 l\n",
      "4 e\n"
     ]
    }
   ],
   "source": [
    "# enumerate adds a counter to the iterable\n",
    "for i, char in enumerate('apple'):\n",
    "    print(i, char)"
   ]
  },
  {
   "cell_type": "code",
   "execution_count": 24,
   "metadata": {},
   "outputs": [
    {
     "data": {
      "text/plain": [
       "['hello', 'how', 'are', 'you?']"
      ]
     },
     "execution_count": 24,
     "metadata": {},
     "output_type": "execute_result"
    }
   ],
   "source": [
    "message = 'hello how are you?'\n",
    "message.split()"
   ]
  },
  {
   "cell_type": "code",
   "execution_count": 25,
   "metadata": {},
   "outputs": [
    {
     "name": "stdout",
     "output_type": "stream",
     "text": [
      "hello\n",
      "how\n",
      "are\n",
      "you?\n"
     ]
    }
   ],
   "source": [
    "# iterating over a sequence\n",
    "for word in message.split():\n",
    "    print(word)"
   ]
  },
  {
   "cell_type": "code",
   "execution_count": 26,
   "metadata": {},
   "outputs": [
    {
     "name": "stdout",
     "output_type": "stream",
     "text": [
      "kiwi 0.2\n",
      "apple 1\n",
      "orange 1j\n"
     ]
    }
   ],
   "source": [
    "# Looping over a dictionary\n",
    "d = {'apple': 1, 'kiwi':.2, 'orange':1j}\n",
    "\n",
    "for key, val in d.items():\n",
    "    print(key, val)"
   ]
  },
  {
   "cell_type": "markdown",
   "metadata": {},
   "source": [
    "#### Iterables & Iterators: What are they?\n",
    "- In the Python world, an `iterable` is any object that you can loop over with a for loop. Iterables are not always indexable,they dont always have length, and they are not always finite.\n",
    "- All iterables can be passed to the build-in `iter` function to get an `iterator` from them\n",
    "- Iterators have one job: return the 'next' item in our iterable."
   ]
  },
  {
   "cell_type": "code",
   "execution_count": 27,
   "metadata": {},
   "outputs": [
    {
     "name": "stdout",
     "output_type": "stream",
     "text": [
      "<list_iterator object at 0x7f156c358978>\n",
      "apple\n",
      "banana\n",
      "orange\n"
     ]
    },
    {
     "ename": "StopIteration",
     "evalue": "",
     "output_type": "error",
     "traceback": [
      "\u001b[0;31m---------------------------------------------------------------------------\u001b[0m",
      "\u001b[0;31mStopIteration\u001b[0m                             Traceback (most recent call last)",
      "\u001b[0;32m<ipython-input-27-098637374a05>\u001b[0m in \u001b[0;36m<module>\u001b[0;34m()\u001b[0m\n\u001b[1;32m      5\u001b[0m \u001b[0mprint\u001b[0m\u001b[0;34m(\u001b[0m\u001b[0mnext\u001b[0m\u001b[0;34m(\u001b[0m\u001b[0miterator\u001b[0m\u001b[0;34m)\u001b[0m\u001b[0;34m)\u001b[0m\u001b[0;34m\u001b[0m\u001b[0m\n\u001b[1;32m      6\u001b[0m \u001b[0mprint\u001b[0m\u001b[0;34m(\u001b[0m\u001b[0mnext\u001b[0m\u001b[0;34m(\u001b[0m\u001b[0miterator\u001b[0m\u001b[0;34m)\u001b[0m\u001b[0;34m)\u001b[0m\u001b[0;34m\u001b[0m\u001b[0m\n\u001b[0;32m----> 7\u001b[0;31m \u001b[0mprint\u001b[0m\u001b[0;34m(\u001b[0m\u001b[0mnext\u001b[0m\u001b[0;34m(\u001b[0m\u001b[0miterator\u001b[0m\u001b[0;34m)\u001b[0m\u001b[0;34m)\u001b[0m \u001b[0;31m# if there are no next item, a `StopIteration` exception will be raised.\u001b[0m\u001b[0;34m\u001b[0m\u001b[0m\n\u001b[0m",
      "\u001b[0;31mStopIteration\u001b[0m: "
     ]
    }
   ],
   "source": [
    "fruits = ['apple', 'banana', 'orange']\n",
    "iterator = iter(fruits) # is an iterable object\n",
    "print(iterator)\n",
    "print(next(iterator)) #each time we call the next method on the iterator, it gives us the next element.\n",
    "print(next(iterator))\n",
    "print(next(iterator))\n",
    "print(next(iterator)) # if there are no next item, a `StopIteration` exception will be raised.\n"
   ]
  },
  {
   "cell_type": "markdown",
   "metadata": {},
   "source": [
    "The `for` loop is automatically doing: calling `iter` to get an interator and then calling `next` over and over until a `StopIteration` exception is raised."
   ]
  },
  {
   "cell_type": "markdown",
   "metadata": {},
   "source": [
    "#### Generators: What are they?\n",
    "- Generators simplifies the creation of iterators. A generator is a function that produces a sequence of results instead of a single value.\n",
    "- A generator is a function that uses `yield` statement to create an iterable.\n",
    "- When a function has a `yield` statement in it, it isnt a typical function anymore. Its a generator function, which will return a generator object when called. That generator object can be looped over to execute it until a yield statement is hit.\n"
   ]
  },
  {
   "cell_type": "code",
   "execution_count": 28,
   "metadata": {},
   "outputs": [
    {
     "name": "stdout",
     "output_type": "stream",
     "text": [
      "<class 'list_iterator'>\n",
      "apple\n",
      "banana\n",
      "orange\n"
     ]
    },
    {
     "ename": "StopIteration",
     "evalue": "",
     "output_type": "error",
     "traceback": [
      "\u001b[0;31m---------------------------------------------------------------------------\u001b[0m",
      "\u001b[0;31mStopIteration\u001b[0m                             Traceback (most recent call last)",
      "\u001b[0;32m<ipython-input-28-823942a7cda9>\u001b[0m in \u001b[0;36m<module>\u001b[0;34m()\u001b[0m\n\u001b[1;32m     11\u001b[0m \u001b[0mprint\u001b[0m\u001b[0;34m(\u001b[0m\u001b[0mnext\u001b[0m\u001b[0;34m(\u001b[0m\u001b[0mgenerator\u001b[0m\u001b[0;34m)\u001b[0m\u001b[0;34m)\u001b[0m\u001b[0;34m\u001b[0m\u001b[0m\n\u001b[1;32m     12\u001b[0m \u001b[0mprint\u001b[0m\u001b[0;34m(\u001b[0m\u001b[0mnext\u001b[0m\u001b[0;34m(\u001b[0m\u001b[0mgenerator\u001b[0m\u001b[0;34m)\u001b[0m\u001b[0;34m)\u001b[0m\u001b[0;34m\u001b[0m\u001b[0m\n\u001b[0;32m---> 13\u001b[0;31m \u001b[0mprint\u001b[0m\u001b[0;34m(\u001b[0m\u001b[0mnext\u001b[0m\u001b[0;34m(\u001b[0m\u001b[0mgenerator\u001b[0m\u001b[0;34m)\u001b[0m\u001b[0;34m)\u001b[0m\u001b[0;34m\u001b[0m\u001b[0m\n\u001b[0m",
      "\u001b[0;31mStopIteration\u001b[0m: "
     ]
    }
   ],
   "source": [
    "fruits = ['apple', 'banana', 'orange']\n",
    "\n",
    "def loop(fruits): #function definition, it will be in section 3\n",
    "    for word in fruits:\n",
    "        yield word\n",
    "generator = loop(fruits)\n",
    "print(type(iterator)) # print type\n",
    "\n",
    "# similar to iterator\n",
    "print(next(generator))\n",
    "print(next(generator))\n",
    "print(next(generator))\n",
    "print(next(generator))\n"
   ]
  },
  {
   "cell_type": "code",
   "execution_count": 29,
   "metadata": {},
   "outputs": [
    {
     "name": "stdout",
     "output_type": "stream",
     "text": [
      "***\n",
      "begin\n",
      "before yield 0\n",
      "0\n",
      "***\n",
      "after yield 0\n",
      "before yield 1\n",
      "1\n",
      "***\n",
      "after yield 1\n",
      "end\n"
     ]
    },
    {
     "ename": "StopIteration",
     "evalue": "",
     "output_type": "error",
     "traceback": [
      "\u001b[0;31m---------------------------------------------------------------------------\u001b[0m",
      "\u001b[0;31mStopIteration\u001b[0m                             Traceback (most recent call last)",
      "\u001b[0;32m<ipython-input-29-0476d4131613>\u001b[0m in \u001b[0;36m<module>\u001b[0;34m()\u001b[0m\n\u001b[1;32m     17\u001b[0m \u001b[0mprint\u001b[0m\u001b[0;34m(\u001b[0m\u001b[0mnext\u001b[0m\u001b[0;34m(\u001b[0m\u001b[0mf\u001b[0m\u001b[0;34m)\u001b[0m\u001b[0;34m)\u001b[0m\u001b[0;34m\u001b[0m\u001b[0m\n\u001b[1;32m     18\u001b[0m \u001b[0mprint\u001b[0m\u001b[0;34m(\u001b[0m\u001b[0;34m'***'\u001b[0m\u001b[0;34m)\u001b[0m\u001b[0;34m\u001b[0m\u001b[0m\n\u001b[0;32m---> 19\u001b[0;31m \u001b[0mprint\u001b[0m\u001b[0;34m(\u001b[0m\u001b[0mnext\u001b[0m\u001b[0;34m(\u001b[0m\u001b[0mf\u001b[0m\u001b[0;34m)\u001b[0m\u001b[0;34m)\u001b[0m\u001b[0;34m\u001b[0m\u001b[0m\n\u001b[0m",
      "\u001b[0;31mStopIteration\u001b[0m: "
     ]
    }
   ],
   "source": [
    "#another example to show the interplay between yield and next method in a generator object.\n",
    "\n",
    "def foo(): \n",
    "    print ('begin') # this should get printed only in the first next method call.\n",
    "    \n",
    "    for i in range(2):\n",
    "        print('before yield', i)\n",
    "        yield i\n",
    "        print('after yield', i)\n",
    "    print('end')\n",
    "\n",
    "f = foo()\n",
    "\n",
    "print('***')\n",
    "print(next(f))\n",
    "print('***')\n",
    "print(next(f))\n",
    "print('***')\n",
    "print(next(f))\n"
   ]
  },
  {
   "cell_type": "markdown",
   "metadata": {},
   "source": [
    "#### 2.3 While/break/continue\n"
   ]
  },
  {
   "cell_type": "code",
   "execution_count": 30,
   "metadata": {},
   "outputs": [
    {
     "name": "stdout",
     "output_type": "stream",
     "text": [
      "10\n"
     ]
    }
   ],
   "source": [
    "a = 1\n",
    "while a < 10:\n",
    "    a += 1\n",
    "print(a)"
   ]
  },
  {
   "cell_type": "code",
   "execution_count": 31,
   "metadata": {},
   "outputs": [
    {
     "name": "stdout",
     "output_type": "stream",
     "text": [
      "9\n"
     ]
    }
   ],
   "source": [
    "a = 1\n",
    "while a < 10:\n",
    "    if a == 9:\n",
    "        break\n",
    "    a += 1\n",
    "print(a)"
   ]
  },
  {
   "cell_type": "code",
   "execution_count": 32,
   "metadata": {},
   "outputs": [
    {
     "name": "stdout",
     "output_type": "stream",
     "text": [
      "banana\n",
      "orange\n"
     ]
    }
   ],
   "source": [
    "fruits = ['apple', 'banana', 'orange']\n",
    "for fruit in fruits:\n",
    "    if fruit is 'apple': #next section you will learn conditional expression\n",
    "        continue\n",
    "    print(fruit)"
   ]
  },
  {
   "cell_type": "markdown",
   "metadata": {},
   "source": [
    "#### 2.4 Conditional expressions "
   ]
  },
  {
   "cell_type": "code",
   "execution_count": 33,
   "metadata": {},
   "outputs": [
    {
     "name": "stdout",
     "output_type": "stream",
     "text": [
      "1. False\n",
      "2. False\n",
      "3. False\n"
     ]
    }
   ],
   "source": [
    "\"\"\"\n",
    "if <object> Evaluates to False:\n",
    "\n",
    "        any number equal to zero (0, 0.0, 0+0j)\n",
    "        an empty container (list, tuple, set, dictionary, …)\n",
    "        False, None\n",
    "\n",
    "if <object> Evaluates to True:\n",
    "\n",
    "        everything else\n",
    "\n",
    "\"\"\"\n",
    "a = 0\n",
    "b = []\n",
    "c = False\n",
    "\n",
    "if a:\n",
    "    print('1. True')\n",
    "else:\n",
    "    print('1. False')\n",
    "if b:\n",
    "    print('2. True')\n",
    "else:\n",
    "    print('2. False')\n",
    "if c:\n",
    "    print('3. True')\n",
    "else:\n",
    "    print('3. False')"
   ]
  },
  {
   "cell_type": "code",
   "execution_count": 34,
   "metadata": {},
   "outputs": [
    {
     "name": "stdout",
     "output_type": "stream",
     "text": [
      "True\n"
     ]
    }
   ],
   "source": [
    "# a == b: Tests equality, with logics\n",
    "\n",
    "if a == 0:\n",
    "    print(True)"
   ]
  },
  {
   "cell_type": "code",
   "execution_count": 35,
   "metadata": {},
   "outputs": [
    {
     "name": "stdout",
     "output_type": "stream",
     "text": [
      "True\n",
      "False\n",
      "True\n",
      "False\n"
     ]
    }
   ],
   "source": [
    "# a is b : Tests identity- both sides are the same object?\n",
    "\n",
    "b = 0\n",
    "print(a is b) # True\n",
    "\n",
    "print(fruits is 'apple') # False\n",
    "fruits1 = fruits \n",
    "print(fruits1 is fruits) # True\n",
    "fruits2 = ['apple', 'banana', 'orange']\n",
    "print(fruits2 is fruits) # False"
   ]
  },
  {
   "cell_type": "code",
   "execution_count": 36,
   "metadata": {},
   "outputs": [
    {
     "name": "stdout",
     "output_type": "stream",
     "text": [
      "True\n",
      "False\n"
     ]
    }
   ],
   "source": [
    "# a in b: b contains a\n",
    "\n",
    "print('apple' in fruits) # True\n",
    "print('a' in fruits) # False"
   ]
  },
  {
   "cell_type": "markdown",
   "metadata": {},
   "source": [
    "#### 2.5 List Comprehensions\n",
    "- The basic expression is `result = [transform iteration filter]`"
   ]
  },
  {
   "cell_type": "code",
   "execution_count": 37,
   "metadata": {},
   "outputs": [
    {
     "name": "stdout",
     "output_type": "stream",
     "text": [
      "[0, 1, 2, 3]\n"
     ]
    }
   ],
   "source": [
    "# `transform` is `i`, `iteration` is `for i in range(4)`\n",
    "l = [i for i in range(4)] \n",
    "print(l)"
   ]
  },
  {
   "cell_type": "code",
   "execution_count": 38,
   "metadata": {},
   "outputs": [
    {
     "name": "stdout",
     "output_type": "stream",
     "text": [
      "[0, 1, 4, 9]\n"
     ]
    }
   ],
   "source": [
    "# `transform` is `i**2`, `iteration` is `for i in range(4)`\n",
    "l = [i**2 for i in range(4)] \n",
    "print(l)"
   ]
  },
  {
   "cell_type": "code",
   "execution_count": 39,
   "metadata": {},
   "outputs": [
    {
     "name": "stdout",
     "output_type": "stream",
     "text": [
      "[4, 9]\n"
     ]
    }
   ],
   "source": [
    "# `transform` is `i**2`, `iteration` is `for i in range(4), `filter` is `i >= 2`\n",
    "l = [i**2 for i in range(4) if i >= 2] \n",
    "print(l)"
   ]
  },
  {
   "cell_type": "code",
   "execution_count": 40,
   "metadata": {},
   "outputs": [
    {
     "name": "stdout",
     "output_type": "stream",
     "text": [
      "['t', 'i', 'a', 'l', 'o', 'w']\n"
     ]
    }
   ],
   "source": [
    "listOfWords = [\"this\",\"is\",\"a\",\"list\",\"of\",\"words\"]\n",
    "items = [ word[0] for word in listOfWords ] #gets the first letter of each word\n",
    "print(items)"
   ]
  },
  {
   "cell_type": "code",
   "execution_count": 41,
   "metadata": {},
   "outputs": [
    {
     "name": "stdout",
     "output_type": "stream",
     "text": [
      "['t', 'i', 'a', 'l', 'o', 'w']\n"
     ]
    }
   ],
   "source": [
    "# to write the above code without the list comprehension, the code will be:\n",
    "\n",
    "l1 = []\n",
    "for word in listOfWords:\n",
    "    l1.append(word[0])\n",
    "print(l1)    "
   ]
  },
  {
   "cell_type": "markdown",
   "metadata": {},
   "source": [
    "### 3. Function definition\n",
    "Syntax:\n",
    "- `def` is the keyword\n",
    "- is followed by function name, then\n",
    "- arguments of the function are given between parentheses followed by a colon.\n",
    "- function body\n",
    "- optional return object"
   ]
  },
  {
   "cell_type": "code",
   "execution_count": 43,
   "metadata": {},
   "outputs": [
    {
     "name": "stdout",
     "output_type": "stream",
     "text": [
      "hello\n"
     ]
    }
   ],
   "source": [
    "def test():\n",
    "    print('hello') #Function blocks must be indented\n",
    "test()"
   ]
  },
  {
   "cell_type": "code",
   "execution_count": 46,
   "metadata": {},
   "outputs": [
    {
     "name": "stdout",
     "output_type": "stream",
     "text": [
      "12.56\n"
     ]
    }
   ],
   "source": [
    "def area(radius):\n",
    "    return 3.14* radius * radius #return statement\n",
    "print(area(2))"
   ]
  },
  {
   "cell_type": "code",
   "execution_count": 47,
   "metadata": {},
   "outputs": [
    {
     "ename": "TypeError",
     "evalue": "double_it() missing 1 required positional argument: 'x'",
     "output_type": "error",
     "traceback": [
      "\u001b[0;31m---------------------------------------------------------------------------\u001b[0m",
      "\u001b[0;31mTypeError\u001b[0m                                 Traceback (most recent call last)",
      "\u001b[0;32m<ipython-input-47-1edcdd0e8506>\u001b[0m in \u001b[0;36m<module>\u001b[0;34m()\u001b[0m\n\u001b[1;32m      3\u001b[0m \u001b[0;32mdef\u001b[0m \u001b[0mdouble_it\u001b[0m\u001b[0;34m(\u001b[0m\u001b[0mx\u001b[0m\u001b[0;34m)\u001b[0m\u001b[0;34m:\u001b[0m\u001b[0;34m\u001b[0m\u001b[0m\n\u001b[1;32m      4\u001b[0m     \u001b[0;32mreturn\u001b[0m \u001b[0mx\u001b[0m\u001b[0;34m*\u001b[0m\u001b[0;36m2\u001b[0m\u001b[0;34m\u001b[0m\u001b[0m\n\u001b[0;32m----> 5\u001b[0;31m \u001b[0mdouble_it\u001b[0m\u001b[0;34m(\u001b[0m\u001b[0;34m)\u001b[0m\u001b[0;34m\u001b[0m\u001b[0m\n\u001b[0m",
      "\u001b[0;31mTypeError\u001b[0m: double_it() missing 1 required positional argument: 'x'"
     ]
    }
   ],
   "source": [
    "#Mandatory parameters\n",
    "\n",
    "def double_it(x):\n",
    "    return x*2\n",
    "double_it() # Error as x is not passed, its a mandatory parameter"
   ]
  },
  {
   "cell_type": "code",
   "execution_count": 51,
   "metadata": {},
   "outputs": [
    {
     "name": "stdout",
     "output_type": "stream",
     "text": [
      "4\n",
      "6\n"
     ]
    }
   ],
   "source": [
    "#Optional parameters\n",
    "\n",
    "def double_it(x=2):\n",
    "    return x*2\n",
    "print(double_it()) # takes default value\n",
    "print(double_it(3))"
   ]
  },
  {
   "cell_type": "code",
   "execution_count": 52,
   "metadata": {},
   "outputs": [
    {
     "data": {
      "text/plain": [
       "20"
      ]
     },
     "execution_count": 52,
     "metadata": {},
     "output_type": "execute_result"
    }
   ],
   "source": [
    "# Default values are evaluated when the function is defined, not when it is called.\n",
    "\n",
    "b = 10\n",
    "\n",
    "def double_it(x=b):\n",
    "    return x* 2\n",
    "b = 100\n",
    "double_it()"
   ]
  },
  {
   "cell_type": "markdown",
   "metadata": {},
   "source": [
    "#### 3.1 Passing by Value\n",
    "- Most languages distinguish \"passing by value\" and \"passing by reference\".\n",
    "- In Python, parameters to functions are references to objects to which the variable refers, not the variable itself.\n",
    "- If the value passed in the function is immutable, like integers, strings, or tuples, the object reference is passed to the function parameters. They cannot be changed within the function because they are immutable.\n",
    "- If the value is mutable, the function may modify the callers variable in-place. \n",
    "- If we pass a list to a function, we have two cases: Elements in the list can be changed in place. If a new list is assigned to the name, the old list will not be affected, ie. the list in the callers scope will remain untouched.\n"
   ]
  },
  {
   "cell_type": "code",
   "execution_count": 62,
   "metadata": {},
   "outputs": [
    {
     "name": "stdout",
     "output_type": "stream",
     "text": [
      "x= 77 id= 10921856\n",
      "x= 23 id= 10920128\n",
      "a= 77 id= 10921856\n"
     ]
    }
   ],
   "source": [
    "# example with immutable variables\n",
    "def try_to_modify(x):\n",
    "    print('x=', x, 'id=', id(x))\n",
    "    x = 23\n",
    "    print('x=', x, 'id=', id(x))\n",
    "a = 77\n",
    "try_to_modify(a)\n",
    "print('a=', a, 'id=', id(a))"
   ]
  },
  {
   "cell_type": "code",
   "execution_count": 66,
   "metadata": {},
   "outputs": [
    {
     "name": "stdout",
     "output_type": "stream",
     "text": [
      "[99, 42] 139729986531912\n",
      "[33] 139729986569736\n"
     ]
    }
   ],
   "source": [
    "# example with mutable variables\n",
    "def try_to_modify_1(y, z):\n",
    "    y.append(42)\n",
    "    z = [33] # new list assigned to the name, the list in the callers scope will remain untouched.    \n",
    "    print(y, id(y))\n",
    "    print(z, id(z))\n",
    "\n",
    "b = [99]\n",
    "c = [28]\n",
    "try_to_modify_1(b, c)\n"
   ]
  },
  {
   "cell_type": "code",
   "execution_count": 65,
   "metadata": {},
   "outputs": [
    {
     "name": "stdout",
     "output_type": "stream",
     "text": [
      "[99, 42] 139729986569736\n",
      "[28] 139729986569224\n"
     ]
    }
   ],
   "source": [
    "print(b, id(b)) #mutable variable, in-place change happend\n",
    "print(c, id(c)) #mutable variable, but since its assigned a new list to the name in the function, the callers scope is untouched."
   ]
  },
  {
   "cell_type": "code",
   "execution_count": 69,
   "metadata": {},
   "outputs": [
    {
     "name": "stdout",
     "output_type": "stream",
     "text": [
      "[28, 33] 139729986988104\n",
      "[28, 33] 139729986988104\n"
     ]
    }
   ],
   "source": [
    "# Side effects\n",
    "def try_to_modify_2(z):\n",
    "    z += [33]     # += changes the above behavior to reflect in-place changes   \n",
    "    print(z, id(z))\n",
    "\n",
    "c = [28]\n",
    "try_to_modify_2(c)\n",
    "print(c, id(c)) "
   ]
  },
  {
   "cell_type": "code",
   "execution_count": 70,
   "metadata": {},
   "outputs": [
    {
     "name": "stdout",
     "output_type": "stream",
     "text": [
      "[28, 33] 139729986365512\n",
      "[28] 139729986363784\n"
     ]
    }
   ],
   "source": [
    "# Side effects - to avoid the above, one can do a shallow copy of the variable when passed\n",
    "def try_to_modify_2(z):\n",
    "    z += [33]     # += changes the above behavior to reflect in-place changes   \n",
    "    print(z, id(z))\n",
    "\n",
    "c = [28]\n",
    "try_to_modify_2(c[:]) #shallow copy\n",
    "print(c, id(c)) "
   ]
  },
  {
   "cell_type": "markdown",
   "metadata": {},
   "source": [
    "#### 3.2 Global variables\n",
    "- Variables declared outside the function can be referenced within the function.\n"
   ]
  },
  {
   "cell_type": "code",
   "execution_count": 71,
   "metadata": {},
   "outputs": [
    {
     "data": {
      "text/plain": [
       "15"
      ]
     },
     "execution_count": 71,
     "metadata": {},
     "output_type": "execute_result"
    }
   ],
   "source": [
    "x = 5\n",
    "def addx(y):\n",
    "    return x+y\n",
    "addx(10)"
   ]
  },
  {
   "cell_type": "code",
   "execution_count": 77,
   "metadata": {},
   "outputs": [
    {
     "name": "stdout",
     "output_type": "stream",
     "text": [
      "25\n",
      "25\n"
     ]
    }
   ],
   "source": [
    "#global variables can be set inside the function\n",
    "\n",
    "def setx(y):\n",
    "    global x\n",
    "    x += y\n",
    "    print(x)\n",
    "\n",
    "setx(10)\n",
    "print(x)    "
   ]
  },
  {
   "cell_type": "markdown",
   "metadata": {},
   "source": [
    "#### 3.3 Variable number of parameters\n",
    "- `*args`: any number of positional arguments(non default arguments) packed into a tuple. \n",
    "- `**kwargs`: any number of keyword arguments(default arguments) packed into a dictionary."
   ]
  },
  {
   "cell_type": "code",
   "execution_count": 79,
   "metadata": {},
   "outputs": [
    {
     "name": "stdout",
     "output_type": "stream",
     "text": [
      "args is ('one', 'two')\n",
      "kwargs is {'z': 3, 'x': 1, 'y': 2}\n"
     ]
    }
   ],
   "source": [
    "def variable_args(*args, **kwargs):\n",
    "    print('args is', args)\n",
    "    print('kwargs is', kwargs)\n",
    "variable_args('one', 'two', x=1, y=2, z=3)"
   ]
  },
  {
   "cell_type": "markdown",
   "metadata": {},
   "source": [
    "#### 3.4 Docstrings\n",
    "- Documentation about what the function does and its parameters."
   ]
  },
  {
   "cell_type": "code",
   "execution_count": 80,
   "metadata": {},
   "outputs": [],
   "source": [
    "#General convention\n",
    "def funcname(params):\n",
    "\n",
    "     \"\"\"Concise one-line sentence describing the function.\n",
    "\n",
    "     Extended summary which can contain multiple paragraphs.\n",
    "\n",
    "     \"\"\"\n",
    "\n",
    "     # function body\n",
    "\n",
    "     pass"
   ]
  },
  {
   "cell_type": "code",
   "execution_count": 85,
   "metadata": {},
   "outputs": [],
   "source": [
    "funcname?"
   ]
  },
  {
   "cell_type": "markdown",
   "metadata": {},
   "source": [
    "#### 3.5. Functions are objects\n",
    "Functions are first-class objects, which means they can be:\n",
    "- assigned to a variable\n",
    "- passed as an argument to another function\n",
    "- return the function from a function\n",
    "- store them store them in data structures such as list, \n"
   ]
  },
  {
   "cell_type": "code",
   "execution_count": 89,
   "metadata": {},
   "outputs": [
    {
     "name": "stdout",
     "output_type": "stream",
     "text": [
      "args is ('three',)\n",
      "kwargs is {'x': 1, 'y': 2}\n"
     ]
    }
   ],
   "source": [
    "# functions can be treated as objects\n",
    "va = variable_args\n",
    "va('three', x=1, y=2)"
   ]
  },
  {
   "cell_type": "code",
   "execution_count": 91,
   "metadata": {},
   "outputs": [
    {
     "name": "stdout",
     "output_type": "stream",
     "text": [
      "HI, I AM CREATED BY A FUNCTION PASSED AS AN ARGUMENT.\n",
      "hi, i am created by a function passed as an argument.\n"
     ]
    }
   ],
   "source": [
    "#functions can be passed as arguments to other functions\n",
    "\n",
    "def shout(text):\n",
    "    return text.upper()\n",
    " \n",
    "def whisper(text):\n",
    "    return text.lower()\n",
    " \n",
    "def greet(func):\n",
    "    # storing the function in a variable\n",
    "    greeting = func(\"Hi, I am created by a function passed as an argument.\")\n",
    "    print (greeting)\n",
    " \n",
    "greet(shout)\n",
    "greet(whisper)"
   ]
  },
  {
   "cell_type": "code",
   "execution_count": 95,
   "metadata": {},
   "outputs": [
    {
     "name": "stdout",
     "output_type": "stream",
     "text": [
      "<function create_adder.<locals>.adder at 0x7f156c2f6c80>\n",
      "25\n"
     ]
    }
   ],
   "source": [
    "# functions can return other functions\n",
    "def create_adder(x):\n",
    "    def adder(y):\n",
    "        return x+y\n",
    "    return adder\n",
    "print(create_adder(15))\n",
    "f = create_adder(15)\n",
    "print(f(10))"
   ]
  },
  {
   "cell_type": "markdown",
   "metadata": {},
   "source": [
    "### Examples"
   ]
  },
  {
   "cell_type": "code",
   "execution_count": 110,
   "metadata": {},
   "outputs": [
    {
     "data": {
      "text/plain": [
       "55"
      ]
     },
     "execution_count": 110,
     "metadata": {},
     "output_type": "execute_result"
    }
   ],
   "source": [
    "# fibnoci series in Python\n",
    "# U0 = 0, U1 = 1, U(n) = U(n-1) + U(n-2)\n",
    "def fib(n):\n",
    "    if n == 0:\n",
    "        return 0\n",
    "    elif n == 1:\n",
    "        return 1\n",
    "    else:\n",
    "        return fib(n-1) + fib(n-2)\n",
    "fib(10)"
   ]
  },
  {
   "cell_type": "code",
   "execution_count": 112,
   "metadata": {},
   "outputs": [
    {
     "data": {
      "text/plain": [
       "55.000000000000014"
      ]
     },
     "execution_count": 112,
     "metadata": {},
     "output_type": "execute_result"
    }
   ],
   "source": [
    "#math function to check fibnoci series\n",
    "from math import sqrt\n",
    "def F(n):\n",
    "    return ((1+sqrt(5))**n-(1-sqrt(5))**n)/(2**n*sqrt(5))\n",
    "F(10)"
   ]
  },
  {
   "cell_type": "code",
   "execution_count": 119,
   "metadata": {},
   "outputs": [
    {
     "name": "stdout",
     "output_type": "stream",
     "text": [
      "55\n"
     ]
    }
   ],
   "source": [
    "# looping through\n",
    "U0 = 0\n",
    "U1 = 1\n",
    "for i in range(9):\n",
    "    U2 = U1 + U0\n",
    "    U0 = U1\n",
    "    U1 = U2\n",
    "    \n",
    "print(U2)"
   ]
  },
  {
   "cell_type": "code",
   "execution_count": 146,
   "metadata": {},
   "outputs": [],
   "source": [
    "# quick sort algorithm as defined by wikipedia\n",
    "\n",
    "def quicksort(array):\n",
    "    less = []\n",
    "    greater = []\n",
    "    if len(array) < 2:\n",
    "        return array\n",
    "    pivot = array.pop()\n",
    "    for x in array:\n",
    "        if x < pivot + 1:\n",
    "            less.append(x)\n",
    "        else:\n",
    "            greater.append(x)\n",
    "    return quicksort(less)+ [pivot]+ quicksort(greater)"
   ]
  },
  {
   "cell_type": "code",
   "execution_count": 144,
   "metadata": {},
   "outputs": [
    {
     "name": "stdout",
     "output_type": "stream",
     "text": [
      "193 ns ± 95.6 ns per loop (mean ± std. dev. of 7 runs, 10000 loops each)\n"
     ]
    },
    {
     "data": {
      "text/plain": [
       "[1, 2, 3, 8, 9]"
      ]
     },
     "execution_count": 144,
     "metadata": {},
     "output_type": "execute_result"
    }
   ],
   "source": [
    "array = [3, 9, 2, 8, 1]\n",
    "%timeit -n 10000 quicksort(array)\n",
    "quicksort([3, 9, 2, 8, 1])"
   ]
  },
  {
   "cell_type": "code",
   "execution_count": null,
   "metadata": {},
   "outputs": [],
   "source": []
  }
 ],
 "metadata": {
  "kernelspec": {
   "display_name": "Python 3",
   "language": "python",
   "name": "python3"
  },
  "language_info": {
   "codemirror_mode": {
    "name": "ipython",
    "version": 3
   },
   "file_extension": ".py",
   "mimetype": "text/x-python",
   "name": "python",
   "nbconvert_exporter": "python",
   "pygments_lexer": "ipython3",
   "version": "3.7.6"
  }
 },
 "nbformat": 4,
 "nbformat_minor": 2
}
