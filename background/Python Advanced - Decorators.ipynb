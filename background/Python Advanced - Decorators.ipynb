{
 "cells": [
  {
   "cell_type": "markdown",
   "metadata": {},
   "source": [
    "## Decorators in Python\n",
    "From https://pouannes.github.io/blog/decorators/\n",
    "\n",
    "A decorator is:\n",
    "    - It’s a function that wraps another function\n",
    "    - It takes a function as a parameter\n",
    "    - It returns a function"
   ]
  },
  {
   "cell_type": "markdown",
   "metadata": {},
   "source": [
    "## Setting up the problem"
   ]
  },
  {
   "cell_type": "code",
   "execution_count": 1,
   "metadata": {},
   "outputs": [],
   "source": [
    "# Simple function to add\n",
    "\n",
    "def add(x, y=10):\n",
    "    return x + y"
   ]
  },
  {
   "cell_type": "code",
   "execution_count": 2,
   "metadata": {},
   "outputs": [
    {
     "data": {
      "text/plain": [
       "30"
      ]
     },
     "execution_count": 2,
     "metadata": {},
     "output_type": "execute_result"
    }
   ],
   "source": [
    "add(10,20)"
   ]
  },
  {
   "cell_type": "code",
   "execution_count": 3,
   "metadata": {},
   "outputs": [
    {
     "data": {
      "text/plain": [
       "<function __main__.add>"
      ]
     },
     "execution_count": 3,
     "metadata": {},
     "output_type": "execute_result"
    }
   ],
   "source": [
    "add"
   ]
  },
  {
   "cell_type": "code",
   "execution_count": 4,
   "metadata": {},
   "outputs": [
    {
     "data": {
      "text/plain": [
       "'__main__'"
      ]
     },
     "execution_count": 4,
     "metadata": {},
     "output_type": "execute_result"
    }
   ],
   "source": [
    "add.__module__\n"
   ]
  },
  {
   "cell_type": "code",
   "execution_count": 5,
   "metadata": {},
   "outputs": [
    {
     "data": {
      "text/plain": [
       "(10,)"
      ]
     },
     "execution_count": 5,
     "metadata": {},
     "output_type": "execute_result"
    }
   ],
   "source": [
    "add.__defaults__ # default value of add function"
   ]
  },
  {
   "cell_type": "code",
   "execution_count": 6,
   "metadata": {},
   "outputs": [
    {
     "data": {
      "text/plain": [
       "('x', 'y')"
      ]
     },
     "execution_count": 6,
     "metadata": {},
     "output_type": "execute_result"
    }
   ],
   "source": [
    "add.__code__.co_varnames #variable names of add"
   ]
  },
  {
   "cell_type": "markdown",
   "metadata": {},
   "source": [
    " Add function to test with a bunch of operations and time each of these operations"
   ]
  },
  {
   "cell_type": "code",
   "execution_count": 8,
   "metadata": {},
   "outputs": [
    {
     "name": "stdout",
     "output_type": "stream",
     "text": [
      "add(10) 20\n",
      "time taken:  0.0004394054412841797\n",
      "add(20, 30) 50\n",
      "time taken:  0.00019669532775878906\n",
      "add(\"a\", \"b\") ab\n",
      "time taken:  0.0002720355987548828\n"
     ]
    }
   ],
   "source": [
    "from time import time\n",
    "\n",
    "\n",
    "def add(x, y=10):\n",
    "    return x + y\n",
    "\n",
    "before = time()\n",
    "print('add(10)',         add(10))\n",
    "after = time()\n",
    "print('time taken: ', after - before)\n",
    "before = time()\n",
    "print('add(20, 30)',     add(20, 30))\n",
    "after = time()\n",
    "print('time taken: ', after - before)\n",
    "before = time()\n",
    "print('add(\"a\", \"b\")',   add(\"a\", \"b\"))\n",
    "after = time()\n",
    "print('time taken: ', after - before)"
   ]
  },
  {
   "cell_type": "markdown",
   "metadata": {},
   "source": [
    "Here’s an idea: let’s create a new timer function that wraps around other functions, and returns the wrapped function:"
   ]
  },
  {
   "cell_type": "code",
   "execution_count": 9,
   "metadata": {},
   "outputs": [],
   "source": [
    "def timer(func):\n",
    "    def f(x, y=10):\n",
    "        before = time()\n",
    "        rv = func(x, y)\n",
    "        after = time()\n",
    "        print('time taken: ', after - before)\n",
    "        return rv\n",
    "    return f"
   ]
  },
  {
   "cell_type": "code",
   "execution_count": 11,
   "metadata": {},
   "outputs": [
    {
     "name": "stdout",
     "output_type": "stream",
     "text": [
      "time taken:  9.5367431640625e-07\n",
      "add(10) 20\n"
     ]
    }
   ],
   "source": [
    "def add(x, y=10):\n",
    "    return x + y\n",
    "add = timer(add)\n",
    "print('add(10)',         add(10))"
   ]
  },
  {
   "cell_type": "code",
   "execution_count": 12,
   "metadata": {},
   "outputs": [
    {
     "data": {
      "text/plain": [
       "('x', 'y', 'before', 'rv', 'after')"
      ]
     },
     "execution_count": 12,
     "metadata": {},
     "output_type": "execute_result"
    }
   ],
   "source": [
    "add.__code__.co_varnames"
   ]
  },
  {
   "cell_type": "markdown",
   "metadata": {},
   "source": [
    "So what did we do? We had a function (like add), and we wrapped it with a behavior (for example time it). We created a new function (timer), that takes the original function and wraps it with a bit of new behavior and returns the new function"
   ]
  },
  {
   "cell_type": "markdown",
   "metadata": {},
   "source": [
    "## Decorators !"
   ]
  },
  {
   "cell_type": "markdown",
   "metadata": {},
   "source": [
    "That pattern of wrapping functions with new, common behavior is exactly what decorators are. Instead of writing:"
   ]
  },
  {
   "cell_type": "code",
   "execution_count": 13,
   "metadata": {},
   "outputs": [],
   "source": [
    "def add(x, y=10):\n",
    "    return x + y\n",
    "add = timer(add)"
   ]
  },
  {
   "cell_type": "markdown",
   "metadata": {},
   "source": [
    "You write:"
   ]
  },
  {
   "cell_type": "code",
   "execution_count": 14,
   "metadata": {},
   "outputs": [],
   "source": [
    "@timer\n",
    "def add(x, y=10):\n",
    "    return x + y"
   ]
  },
  {
   "cell_type": "markdown",
   "metadata": {},
   "source": [
    "But it’s exactly the same thing. That’s what a decorator is in Python. It’s simply a syntax for saying add = timer(add), but instead of putting it at the end of the function you put it at the top with the simpler syntax @timer."
   ]
  },
  {
   "cell_type": "code",
   "execution_count": 16,
   "metadata": {},
   "outputs": [
    {
     "name": "stdout",
     "output_type": "stream",
     "text": [
      "time taken:  1.1920928955078125e-06\n",
      "add(10) 20\n",
      "time taken:  9.5367431640625e-07\n",
      "add(20, 30) 50\n",
      "time taken:  1.1920928955078125e-06\n",
      "add(\"a\", \"b\") ab\n"
     ]
    }
   ],
   "source": [
    "def timer(func):\n",
    "    def f(x, y=10):\n",
    "        before = time()\n",
    "        rv = func(x, y)\n",
    "        after = time()\n",
    "        print('time taken: ', after - before)\n",
    "        return rv\n",
    "    return f\n",
    "\n",
    "@timer\n",
    "def add(x, y=10):\n",
    "    return x + y\n",
    "\n",
    "\n",
    "print('add(10)',         add(10))\n",
    "print('add(20, 30)',     add(20, 30))\n",
    "print('add(\"a\", \"b\")',   add(\"a\", \"b\"))\n"
   ]
  },
  {
   "cell_type": "markdown",
   "metadata": {},
   "source": [
    "### args and kwargs"
   ]
  },
  {
   "cell_type": "markdown",
   "metadata": {},
   "source": [
    "Now there’s still one small detail left that isn’t quite right. In the timer function, we hard-coded the parameters x and y, and even the default y=10. There’s a way to pass the arguments and the key-word arguments for the function, with 'args' and 'kwargs'. "
   ]
  },
  {
   "cell_type": "code",
   "execution_count": 17,
   "metadata": {},
   "outputs": [
    {
     "name": "stdout",
     "output_type": "stream",
     "text": [
      "time taken:  7.152557373046875e-07\n",
      "add(10) 20\n",
      "time taken:  7.152557373046875e-07\n",
      "add(20, 30) 50\n",
      "time taken:  7.152557373046875e-07\n",
      "add(\"a\", \"b\") ab\n"
     ]
    }
   ],
   "source": [
    "def timer(func):\n",
    "    def f(*args, **kwargs):\n",
    "        before = time()\n",
    "        rv = func(*args, **kwargs)\n",
    "        after = time()\n",
    "        print('time taken: ', after - before)\n",
    "        return rv\n",
    "    return f\n",
    "\n",
    "@timer\n",
    "def add(x, y=10):\n",
    "    return x + y\n",
    "\n",
    "\n",
    "\n",
    "print('add(10)',         add(10))\n",
    "print('add(20, 30)',     add(20, 30))\n",
    "print('add(\"a\", \"b\")',   add(\"a\", \"b\"))"
   ]
  },
  {
   "cell_type": "markdown",
   "metadata": {},
   "source": [
    "Another example"
   ]
  },
  {
   "cell_type": "code",
   "execution_count": 19,
   "metadata": {},
   "outputs": [
    {
     "name": "stdout",
     "output_type": "stream",
     "text": [
      "100\n"
     ]
    }
   ],
   "source": [
    "def square(func):\n",
    "    def f(*args, **kwargs):\n",
    "        out = func(*args, **kwargs)\n",
    "        out = out * out\n",
    "        return out\n",
    "    return f\n",
    "\n",
    "@square\n",
    "def sub(x, y=10):\n",
    "    return x - y\n",
    "print(sub(20))"
   ]
  },
  {
   "cell_type": "code",
   "execution_count": null,
   "metadata": {},
   "outputs": [],
   "source": []
  }
 ],
 "metadata": {
  "kernelspec": {
   "display_name": "Python 3",
   "language": "python",
   "name": "python3"
  },
  "language_info": {
   "codemirror_mode": {
    "name": "ipython",
    "version": 3
   },
   "file_extension": ".py",
   "mimetype": "text/x-python",
   "name": "python",
   "nbconvert_exporter": "python",
   "pygments_lexer": "ipython3",
   "version": "3.5.2"
  }
 },
 "nbformat": 4,
 "nbformat_minor": 2
}
